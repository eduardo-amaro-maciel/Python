{
 "metadata": {
  "language_info": {
   "codemirror_mode": {
    "name": "ipython",
    "version": 3
   },
   "file_extension": ".py",
   "mimetype": "text/x-python",
   "name": "python",
   "nbconvert_exporter": "python",
   "pygments_lexer": "ipython3",
   "version": "3.7.5-final"
  },
  "orig_nbformat": 2,
  "kernelspec": {
   "name": "python3",
   "display_name": "Python 3",
   "language": "python"
  }
 },
 "nbformat": 4,
 "nbformat_minor": 2,
 "cells": [
  {
   "source": [
    "Neste estudo de caso, faremos a comparação entre duas sequências de DNA: \n",
    "(1) ser humano & (2) bactéria."
   ],
   "cell_type": "markdown",
   "metadata": {}
  },
  {
   "source": [
    "DNA é uma molécula presente em todos os seres vivos, que é responsável por armazenar as características hereditárias. Ela é composta por sequências de nucleotídeos, que podem de quatro tipos: adenina, timina, citosina ou guanina."
   ],
   "cell_type": "markdown",
   "metadata": {}
  },
  {
   "source": [
    "\"Computacionalmente\" falando podemos representá-los através de 4 letras: A, T, C ou G."
   ],
   "cell_type": "markdown",
   "metadata": {}
  },
  {
   "source": [
    "Neste estudo de caso, queremos avaliar se estruturas com funções parecidas (estamos usando sequências de RNA ribossomal) de organismos diferentes têm diferenças. Para isso vamos avaliar a quantidade de pares de nucleotídeos."
   ],
   "cell_type": "markdown",
   "metadata": {}
  },
  {
   "source": [
    "Dados utilizados:\n",
    "\n",
    "Human 18S rRNA gene, complete\n",
    "Fonte: https://www.ncbi.nlm.nih.gov/nuccore/M10098.1?report=fasta\n",
    "\n",
    "Escherichia coli strain U 5/41 16S ribosomal RNA gene, partial sequence\n",
    "Fonte: https://www.ncbi.nlm.nih.gov/nuccore/NR_024570.1?report=fasta"
   ],
   "cell_type": "markdown",
   "metadata": {}
  },
  {
   "cell_type": "code",
   "execution_count": 316,
   "metadata": {},
   "outputs": [],
   "source": [
    "# SAIDA --> Bacteria \n",
    "# 16s_bacteria.txt\n",
    "\n",
    "# SAIDA --> Humana\n",
    "# 18s_human.txt\n",
    " \n",
    "\n",
    "entrada_bacteria = open(\"16s_bacteria.txt\").read()\n",
    "entrada_human = open(\"18s_human.txt\").read()\n",
    "saida = open(\"16s_bacteria.html\", \"w\")"
   ]
  },
  {
   "cell_type": "code",
   "execution_count": 317,
   "metadata": {},
   "outputs": [],
   "source": [
    "entrada_bacteria = entrada_bacteria.replace(\"\\n\", \"\")\n",
    "entrada_human = entrada_human.replace(\"\\n\", \"\")"
   ]
  },
  {
   "cell_type": "code",
   "execution_count": 318,
   "metadata": {},
   "outputs": [],
   "source": [
    "def entradas(entrada):\n",
    "    cont = {}\n",
    "        \n",
    "    for i in ['A', 'T', 'C', 'G']:\n",
    "        for j in ['A', 'T', 'C', 'G']:\n",
    "            cont[i+j] = 0\n",
    "\n",
    "    for k in range(len(entrada)-1):\n",
    "        cont[entrada[k] + entrada[k+1]] += 1\n",
    "    return cont"
   ]
  },
  {
   "cell_type": "code",
   "execution_count": 319,
   "metadata": {},
   "outputs": [
    {
     "output_type": "stream",
     "name": "stdout",
     "text": [
      "{'AA': 105, 'AT': 64, 'AC': 86, 'AG': 111, 'TA': 64, 'TT': 57, 'TC': 60, 'TG': 108, 'CA': 83, 'CT': 75, 'CC': 74, 'CG': 97, 'GA': 113, 'GT': 93, 'GC': 109, 'GG': 147}\n--------------------------------------------------------------------------------------------------------------------------------------------------------------------------\n{'AA': 116, 'AT': 95, 'AC': 97, 'AG': 113, 'TA': 85, 'TT': 113, 'TC': 109, 'TG': 111, 'CA': 87, 'CT': 105, 'CC': 184, 'CG': 170, 'GA': 134, 'GT': 105, 'GC': 155, 'GG': 184}\n"
     ]
    }
   ],
   "source": [
    "cont_bac = entradas(entrada_bacteria)\n",
    "cont_human = entradas(entrada_human)\n",
    "print(cont_bac)\n",
    "print('-' * 170)\n",
    "print(cont_human)"
   ]
  },
  {
   "cell_type": "code",
   "execution_count": 320,
   "metadata": {},
   "outputs": [],
   "source": [
    "# -------------- HTML --------------\n",
    "\n",
    "def HTML(cont, frase):\n",
    "    saida.write(\"<div>\")\n",
    "\n",
    "    i = 1\n",
    "    saida.write(f\"<p>{frase}</p>\")\n",
    "    for k in cont:\n",
    "        transparencia = cont[k] / max(cont.values())\n",
    "        saida.write(\"<div style='width:100px; border:1px solid #111; color: #fff; height: 100px; float: left; background-color: rgba(0, 0, 0, \"+str(transparencia)+\"')>\"+k+\"</div>\")\n",
    "        if i%4 == 0:\n",
    "            saida.write(\"<div style='clear:both'></div>\")\n",
    "        \n",
    "        i+=1\n",
    "\n",
    "    saida.write(\"<br>\")"
   ]
  },
  {
   "cell_type": "code",
   "execution_count": 321,
   "metadata": {},
   "outputs": [],
   "source": [
    "HTML(cont_bac, 'Bactéria')\n",
    "HTML(cont_human, 'Humano')"
   ]
  },
  {
   "cell_type": "code",
   "execution_count": 322,
   "metadata": {},
   "outputs": [],
   "source": [
    "saida.close()"
   ]
  }
 ]
}