{
 "metadata": {
  "language_info": {
   "codemirror_mode": {
    "name": "ipython",
    "version": 3
   },
   "file_extension": ".py",
   "mimetype": "text/x-python",
   "name": "python",
   "nbconvert_exporter": "python",
   "pygments_lexer": "ipython3",
   "version": "3.7.5-final"
  },
  "orig_nbformat": 2,
  "kernelspec": {
   "name": "python3",
   "display_name": "Python 3",
   "language": "python"
  }
 },
 "nbformat": 4,
 "nbformat_minor": 2,
 "cells": [
  {
   "cell_type": "code",
   "execution_count": 14,
   "metadata": {},
   "outputs": [],
   "source": [
    "from random import *"
   ]
  },
  {
   "cell_type": "code",
   "execution_count": 15,
   "metadata": {},
   "outputs": [],
   "source": [
    "decifrado = ''\n",
    "senha = input('Digite a senha que você quer encontra: ')"
   ]
  },
  {
   "cell_type": "code",
   "execution_count": 16,
   "metadata": {},
   "outputs": [],
   "source": [
    "letras = ['a', 'b', 'c', 'd', 'e', 'f', 'g', 'h', 'i', 'j',\n",
    "          'k', 'l', 'm', 'n', 'o', 'p', 'q', 'r', 's', 't',\n",
    "          'u', 'v', 'w', 'x', 'y', 'z', 'ç', '1', '2', '3',\n",
    "          '4', '5', '6', '7', '8', '9', '0', '!', '@', '#',\n",
    "          '$', '%', '*', '(', ')', '{', '}', '[', ']', '&',\n",
    "          '^', '~', '¨', '?', '+', '=', '-', '_', '|', '/']"
   ]
  },
  {
   "cell_type": "code",
   "execution_count": 17,
   "metadata": {},
   "outputs": [
    {
     "output_type": "stream",
     "name": "stdout",
     "text": [
      "senha encontrada foi: baba\n"
     ]
    }
   ],
   "source": [
    "while decifrado != senha:\n",
    "    decifrado = ''\n",
    "    for letra in senha:\n",
    "        achoLetra = letras[randint(0, 59)]\n",
    "        decifrado = str(achoLetra) + str(decifrado)\n",
    "    #print(decifrado)\n",
    "print(f'senha encontrada foi: {decifrado}')"
   ]
  }
 ]
}