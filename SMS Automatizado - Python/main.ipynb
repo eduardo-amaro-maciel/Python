{
 "metadata": {
  "language_info": {
   "codemirror_mode": {
    "name": "ipython",
    "version": 3
   },
   "file_extension": ".py",
   "mimetype": "text/x-python",
   "name": "python",
   "nbconvert_exporter": "python",
   "pygments_lexer": "ipython3",
   "version": "3.7.5-final"
  },
  "orig_nbformat": 2,
  "kernelspec": {
   "name": "python3",
   "display_name": "Python 3",
   "language": "python"
  }
 },
 "nbformat": 4,
 "nbformat_minor": 2,
 "cells": [
  {
   "source": [
    "# Para cada arquivo:\n",
    "\n",
    "# Verificar se algum valor na coluna Vendas daquele arquivo é maior que 55.000\n",
    "\n",
    "# Se for maior do que 55.000 -> Enviar um SMS com o Nome, o mês e as vendas do vendedor\n",
    "\n",
    "# Caso não seja maior do que 55.000 não quero fazer nada"
   ],
   "cell_type": "code",
   "metadata": {},
   "execution_count": null,
   "outputs": []
  },
  {
   "cell_type": "code",
   "execution_count": 1,
   "metadata": {},
   "outputs": [],
   "source": [
    "# Realizando As Importações\n",
    "import pandas as pd\n",
    "from twilio.rest import Client"
   ]
  },
  {
   "cell_type": "code",
   "execution_count": 2,
   "metadata": {},
   "outputs": [],
   "source": [
    "# Sua Conta SID De twilio.com/console\n",
    "account_sid = \"Seu SID Gerado No Site\"\n",
    "\n",
    "# Seu Autenticador Token De twilio.com/console\n",
    "auth_token  = \"Seu Token Gerado No Site\"\n",
    "\n",
    "# Realizanddo a Conexão Do Cliente\n",
    "client = Client(account_sid, auth_token)"
   ]
  },
  {
   "cell_type": "code",
   "execution_count": 3,
   "metadata": {},
   "outputs": [],
   "source": [
    "# Abrir Os 6 Arquivos Em Excel\n",
    "lista_meses = ['janeiro', 'fevereiro', 'março', 'abril', 'maio', 'junho']"
   ]
  },
  {
   "cell_type": "code",
   "execution_count": null,
   "metadata": {},
   "outputs": [],
   "source": [
    "for mes in lista_meses:\n",
    "    tabela_vendas = pd.read_excel(f'{mes}.xlsx')\n",
    "    if (tabela_vendas['Vendas'] > 55000).any():\n",
    "        \n",
    "        vendedor = tabela_vendas.loc[tabela_vendas['Vendas'] > 55000, 'Vendedor'].values[0]\n",
    "        vendas = tabela_vendas.loc[tabela_vendas['Vendas'] > 55000, 'Vendas'].values[0]\n",
    "        print(f'No mês {mes} alguém bateu a meta. Vendedor: {vendedor}, Vendas: {vendas}')\n",
    "\n",
    "        # Criando a Mensagem\n",
    "        message = client.messages.create(\n",
    "            to=\"Esta Enviando Para Este Numero\",\n",
    "            from_=\"Numero da Conta do Twilio\",\n",
    "            # Corpo Da Mensagem\n",
    "            body=f'No mês {mes} alguém bateu a meta. Vendedor: {vendedor}, Vendas: {vendas}')\n",
    "\n",
    "        # Código Da Mensagem \n",
    "        print(message.sid)"
   ]
  }
 ]
}